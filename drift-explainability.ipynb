{
 "cells": [
  {
   "cell_type": "markdown",
   "id": "e03bfb20",
   "metadata": {},
   "source": [
    "# Explaining Image Drift using Human-Interpretable Features and the K-S Test"
   ]
  },
  {
   "cell_type": "markdown",
   "id": "5ed2338e",
   "metadata": {},
   "source": [
    "## Install Dependencies"
   ]
  },
  {
   "cell_type": "code",
   "execution_count": 1,
   "id": "28e4273b",
   "metadata": {},
   "outputs": [],
   "source": [
    "# Uncomment when running for the first time\n",
    "# !pip install alibi-detect\n",
    "# !pip install opencv-python"
   ]
  },
  {
   "cell_type": "code",
   "execution_count": 2,
   "id": "66dc848c",
   "metadata": {},
   "outputs": [],
   "source": [
    "from PIL import Image\n",
    "import numpy as np\n",
    "import cv2\n",
    "import io\n",
    "import glob\n",
    "import matplotlib.pyplot as plt\n",
    "from scipy.ndimage import gaussian_filter\n",
    "from scipy import stats\n",
    "from alibi_detect.utils.perturbation import *\n",
    "from skimage.restoration import estimate_sigma\n",
    "import statistics"
   ]
  },
  {
   "cell_type": "markdown",
   "id": "2cc599b0",
   "metadata": {},
   "source": [
    "## Load GTSRB Dataset"
   ]
  },
  {
   "cell_type": "code",
   "execution_count": 3,
   "id": "5f33400b",
   "metadata": {},
   "outputs": [
    {
     "name": "stdout",
     "output_type": "stream",
     "text": [
      "--2021-07-12 18:44:55--  https://sid.erda.dk/public/archives/daaeac0d7ce1152aea9b61d9f1e19370/GTSRB_Final_Test_Images.zip\n",
      "Resolving sid.erda.dk (sid.erda.dk)... 130.225.104.13\n",
      "Connecting to sid.erda.dk (sid.erda.dk)|130.225.104.13|:443... connected.\n",
      "HTTP request sent, awaiting response... 304 Not Modified\n",
      "File ‘GTSRB_Final_Test_Images.zip’ not modified on server. Omitting download.\n",
      "\n",
      "Unzipping...\n",
      "--2021-07-12 18:45:00--  https://raw.githubusercontent.com/aditbiswas1/P2-traffic-sign-classifier/master/signnames.csv\n",
      "Resolving raw.githubusercontent.com (raw.githubusercontent.com)... 185.199.109.133, 185.199.110.133, 185.199.111.133, ...\n",
      "Connecting to raw.githubusercontent.com (raw.githubusercontent.com)|185.199.109.133|:443... connected.\n",
      "HTTP request sent, awaiting response... 200 OK\n",
      "Length: 999 [text/plain]\n",
      "Saving to: ‘signnames.csv’\n",
      "\n",
      "signnames.csv       100%[===================>]     999  --.-KB/s    in 0s      \n",
      "\n",
      "Last-modified header missing -- time-stamps turned off.\n",
      "2021-07-12 18:45:00 (76.7 MB/s) - ‘signnames.csv’ saved [999/999]\n",
      "\n"
     ]
    }
   ],
   "source": [
    "import zipfile\n",
    "\n",
    "! wget -N https://sid.erda.dk/public/archives/daaeac0d7ce1152aea9b61d9f1e19370/GTSRB_Final_Test_Images.zip\n",
    "\n",
    "with zipfile.ZipFile('GTSRB_Final_Test_Images.zip', 'r') as zip_ref:\n",
    "    print('Unzipping...')\n",
    "    zip_ref.extractall()\n",
    "\n",
    "! wget -N https://raw.githubusercontent.com/aditbiswas1/P2-traffic-sign-classifier/master/signnames.csv"
   ]
  },
  {
   "cell_type": "code",
   "execution_count": 4,
   "id": "bd0a21c1",
   "metadata": {},
   "outputs": [],
   "source": [
    "X_1 = []\n",
    "X_2 = []\n",
    "X_3 = []\n",
    "X_4 = []\n",
    "\n",
    "width, height = 64, 64\n",
    "\n",
    "# total number of images = 12630\n",
    "for index, file in enumerate(glob.glob('GTSRB/Final_Test/Images/*ppm')):\n",
    "    image = Image.open(file)\n",
    "    resized_image = image.resize((width, height))\n",
    "    np_array = np.array(resized_image)\n",
    "    if index < 300:\n",
    "        # Load image file to array:\n",
    "        X_1.append(np_array)\n",
    "    elif index < 600:\n",
    "        X_2.append(np_array)\n",
    "    elif index < 900:\n",
    "        X_3.append(np_array)\n",
    "    elif index < 1200:\n",
    "        X_4.append(np_array)\n",
    "        \n",
    "X_1 = np.asarray(X_1)\n",
    "X_2 = np.asarray(X_2)\n",
    "X_3 = np.asarray(X_3)\n",
    "X_4 = np.asarray(X_4)"
   ]
  },
  {
   "cell_type": "markdown",
   "id": "d7283d1f",
   "metadata": {},
   "source": [
    "## Introduce Corruptions"
   ]
  },
  {
   "cell_type": "code",
   "execution_count": 5,
   "id": "0d7a9f11",
   "metadata": {},
   "outputs": [],
   "source": [
    "def motion_blur(images, kernel_size, direction):\n",
    "    vertical_blurred = []\n",
    "    horizontal_blurred = []\n",
    "    for img in images:\n",
    "        # Specify the kernel size.\n",
    "        # The greater the size, the more the motion.\n",
    "        kernel_size = 5\n",
    "\n",
    "        # Create the vertical kernel.\n",
    "        kernel_v = np.zeros((kernel_size, kernel_size))\n",
    "\n",
    "        # Create a copy of the same for creating the horizontal kernel.\n",
    "        kernel_h = np.copy(kernel_v)\n",
    "\n",
    "        # Fill the middle row with ones.\n",
    "        kernel_v[:, int((kernel_size - 1)/2)] = np.ones(kernel_size)\n",
    "        kernel_h[int((kernel_size - 1)/2), :] = np.ones(kernel_size)\n",
    "\n",
    "        # Normalize.\n",
    "        kernel_v /= kernel_size\n",
    "        kernel_h /= kernel_size\n",
    "\n",
    "        # Apply the vertical kernel.\n",
    "        vertical_mb = cv2.filter2D(img, -1, kernel_v)\n",
    "\n",
    "        # Apply the horizontal kernel.\n",
    "        horizontal_mb = cv2.filter2D(img, -1, kernel_h)\n",
    "        \n",
    "        vertical_blurred.append(vertical_mb)\n",
    "        horizontal_blurred.append(horizontal_mb)\n",
    "        \n",
    "    vertical_blurred = np.asarray(vertical_blurred).astype(\"uint8\")\n",
    "    horizontal_blurred = np.asarray(horizontal_blurred).astype(\"uint8\")\n",
    "    \n",
    "    if direction == \"vertical\":\n",
    "        return vertical_blurred\n",
    "    elif direction == \"horizontal\":\n",
    "        return horizontal_blurred\n",
    "    else:\n",
    "        return\n",
    "        \n",
    "def brightness(images, value=30):\n",
    "    brightened = []\n",
    "    for img in images:\n",
    "        hsv = cv2.cvtColor(img, cv2.COLOR_BGR2HSV)\n",
    "        h, s, v = cv2.split(hsv)\n",
    "\n",
    "        lim = 255 - value\n",
    "        v[v > lim] = 255\n",
    "        v[v <= lim] += value\n",
    "\n",
    "        final_hsv = cv2.merge((h, s, v))\n",
    "        img = cv2.cvtColor(final_hsv, cv2.COLOR_HSV2BGR)\n",
    "        brightened.append(img)\n",
    "    brightened = np.asarray(brightened).astype(\"uint8\")\n",
    "    return brightened\n",
    "\n",
    "def speckle_noise(images):\n",
    "    noisy_images = []\n",
    "    for img in images:\n",
    "        row,col,ch = img.shape\n",
    "        gauss = np.random.randn(row, col, ch)\n",
    "        gauss = gauss.reshape(row, col, ch)        \n",
    "        noisy = img + img * gauss\n",
    "        noisy_images.append(noisy)\n",
    "    noisy_images = np.asarray(noisy_images).astype(\"uint8\")\n",
    "    return noisy_images\n",
    "\n",
    "def poisson_noise(images):\n",
    "    noisy_images = []\n",
    "    for img in images:\n",
    "        vals = len(np.unique(img))\n",
    "        vals = 2 ** np.ceil(np.log2(vals))\n",
    "        noisy = np.random.poisson(img * vals) / float(vals)\n",
    "        noisy_images.append(noisy)\n",
    "    noisy_images = np.asarray(noisy_images).astype(\"uint8\")\n",
    "    return noisy_images"
   ]
  },
  {
   "cell_type": "code",
   "execution_count": 6,
   "id": "749e8a43",
   "metadata": {},
   "outputs": [],
   "source": [
    "def plot_images(a, b, title_a, title_b):\n",
    "    fig = plt.figure(figsize=(10, 7))\n",
    "    rows, columns = 1, 2\n",
    "\n",
    "    fig.add_subplot(rows, columns, 1)\n",
    "    plt.imshow(a)\n",
    "    plt.axis('off')\n",
    "    plt.title(title_a)\n",
    "\n",
    "    fig.add_subplot(rows, columns, 2)\n",
    "    plt.imshow(b)\n",
    "    plt.axis('off')\n",
    "    plt.title(title_b)"
   ]
  },
  {
   "cell_type": "code",
   "execution_count": 7,
   "id": "0b3218ef",
   "metadata": {},
   "outputs": [
    {
     "data": {
      "image/png": "[encoded data removed]",
      "text/plain": [
       "<Figure size 720x504 with 2 Axes>"
      ]
     },
     "metadata": {
      "needs_background": "light"
     },
     "output_type": "display_data"
    }
   ],
   "source": [
    "idx = 0\n",
    "original_img = X_1[idx]\n",
    "X_blur = motion_blur(X_1, 15, \"horizontal\")\n",
    "blurred_img = X_blur[idx]\n",
    "\n",
    "plot_images(original_img, blurred_img, \"Original\", \"Blurry\")"
   ]
  },
  {
   "cell_type": "code",
   "execution_count": 8,
   "id": "386321f6",
   "metadata": {},
   "outputs": [
    {
     "data": {
      "image/png": "[encoded data removed]",
      "text/plain": [
       "<Figure size 720x504 with 2 Axes>"
      ]
     },
     "metadata": {
      "needs_background": "light"
     },
     "output_type": "display_data"
    }
   ],
   "source": [
    "idx = 1\n",
    "original_img = X_2[idx]\n",
    "X_bright = brightness(X_2, 50)\n",
    "bright_img = X_bright[idx]\n",
    "\n",
    "plot_images(original_img, bright_img, \"Original\", \"Bright\")"
   ]
  },
  {
   "cell_type": "code",
   "execution_count": 9,
   "id": "824e37c1",
   "metadata": {},
   "outputs": [
    {
     "data": {
      "image/png": "[encoded data removed]",
      "text/plain": [
       "<Figure size 720x504 with 2 Axes>"
      ]
     },
     "metadata": {
      "needs_background": "light"
     },
     "output_type": "display_data"
    }
   ],
   "source": [
    "idx = 1\n",
    "original_img = X_3[idx]\n",
    "X_noise = poisson_noise(X_3)\n",
    "noisy_img = X_noise[idx]\n",
    "plot_images(original_img, noisy_img, \"Original\", \"Poisson noise\")"
   ]
  },
  {
   "cell_type": "markdown",
   "id": "f32f4baf",
   "metadata": {},
   "source": [
    "## Compute Image Features and Compare against Baseline Using the K-S Test"
   ]
  },
  {
   "cell_type": "code",
   "execution_count": 10,
   "id": "e5b2a792",
   "metadata": {},
   "outputs": [],
   "source": [
    "# Convert the image to greyscale, apply the Laplacian filter, and find the variance of the pixel values\n",
    "# A low variance corresponds to a blurry image, and a high variance corresponds to a sharp image\n",
    "def measure_blur(images):\n",
    "    variances = []\n",
    "    for img in images:\n",
    "        gray_img = cv2.cvtColor(img, cv2.COLOR_BGR2GRAY)\n",
    "        var = cv2.Laplacian(gray_img, cv2.CV_64F).var()\n",
    "        variances.append(var)\n",
    "    return variances\n",
    "\n",
    "# Convert the image to HSV and find the mean value\n",
    "def measure_brightness(images):\n",
    "    brightnesses = []\n",
    "    for img in images:\n",
    "        hsv = cv2.cvtColor(img, cv2.COLOR_BGR2HSV)\n",
    "        mean_value = hsv[...,2].mean()\n",
    "        brightnesses.append(mean_value)\n",
    "    return brightnesses\n",
    "\n",
    "# Return the standard deviation of Gaussian noise\n",
    "# Higher standard deviation corresponds to more noise, lower corresponds to less noise\n",
    "def measure_noise(images):\n",
    "    noises = []\n",
    "    for img in images:\n",
    "        noise = estimate_sigma(img, multichannel=True, average_sigmas=True)\n",
    "        noises.append(noise)\n",
    "    return noises\n",
    "\n",
    "def mean(lst):\n",
    "    mean = sum(lst) / len(lst)\n",
    "    return mean\n",
    "\n",
    "def median(lst):\n",
    "    mid = len(lst) // 2\n",
    "    lst.sort()\n",
    "    median = lst[mid]\n",
    "    return median"
   ]
  },
  {
   "cell_type": "markdown",
   "id": "fd92bb98",
   "metadata": {},
   "source": [
    "### Brightness\n",
    "\n",
    "As a sanity check, we will print out the mean and median brightnesses for the original dataset and the increased brightness dataset. We can expect the values of the increased brightness dataset to be higher."
   ]
  },
  {
   "cell_type": "code",
   "execution_count": 11,
   "id": "594f348a",
   "metadata": {},
   "outputs": [
    {
     "name": "stdout",
     "output_type": "stream",
     "text": [
      "94.39175944010417 86.325439453125\n",
      "95.01402750651042 82.6630859375\n",
      "139.87216471354168 131.961181640625\n"
     ]
    }
   ],
   "source": [
    "original_brightness = measure_brightness(X_1)\n",
    "original_brightness_2 = measure_brightness(X_2)\n",
    "increased_brightness = measure_brightness(X_bright)\n",
    "print(mean(original_brightness), median(original_brightness))\n",
    "print(mean(original_brightness_2), median(original_brightness_2))\n",
    "print(mean(increased_brightness), median(increased_brightness))"
   ]
  },
  {
   "cell_type": "markdown",
   "id": "4e419e50",
   "metadata": {},
   "source": [
    "We will now run the 2 sample Kolmogorov-Smirnov test on the original and corrupted datasets. If the returned p-value is less than the significance level (default = 0.05), we can reject null hypothesis that two samples were drawn from the same distribution. The K-S test will return a p-value < 0.05 when comparing the baseline against the corrupted dataset. On the other hand, the K-S test will return a p-value > 0.05 when comparing two datasets that were not corrupted."
   ]
  },
  {
   "cell_type": "code",
   "execution_count": 12,
   "id": "c58d5eec",
   "metadata": {},
   "outputs": [
    {
     "name": "stdout",
     "output_type": "stream",
     "text": [
      "KstestResult(statistic=0.3933333333333333, pvalue=4.222383660476908e-21)\n",
      "KstestResult(statistic=0.07, pvalue=0.4548928024568597)\n"
     ]
    }
   ],
   "source": [
    "print(stats.ks_2samp(original_brightness, increased_brightness))\n",
    "print(stats.ks_2samp(original_brightness, original_brightness_2))"
   ]
  },
  {
   "cell_type": "markdown",
   "id": "b02528fc",
   "metadata": {},
   "source": [
    "### Bluriness\n",
    "\n",
    "We can check the results of bluriness and noise measurements in a similar fashion. As a reminder, a low variance corresponds to a blurry image, and a high variance corresponds to a sharp image."
   ]
  },
  {
   "cell_type": "code",
   "execution_count": 13,
   "id": "08ac4994",
   "metadata": {},
   "outputs": [
    {
     "name": "stdout",
     "output_type": "stream",
     "text": [
      "605.0493109140793 232.5078694820404\n",
      "543.605992637674 214.98730063438416\n",
      "191.70670339047908 89.40206903219223\n"
     ]
    }
   ],
   "source": [
    "blurred_variances = measure_blur(X_blur)\n",
    "original_variances = measure_blur(X_1)\n",
    "original_variances_2 = measure_blur(X_2)\n",
    "print(mean(original_variances), median(original_variances))\n",
    "print(mean(original_variances_2), median(original_variances_2))\n",
    "print(mean(blurred_variances), median(blurred_variances))"
   ]
  },
  {
   "cell_type": "code",
   "execution_count": 14,
   "id": "3540f57e",
   "metadata": {},
   "outputs": [
    {
     "name": "stdout",
     "output_type": "stream",
     "text": [
      "KstestResult(statistic=0.27, pvalue=5.01791941596116e-10)\n",
      "KstestResult(statistic=0.04, pvalue=0.9704671760269938)\n"
     ]
    }
   ],
   "source": [
    "print(stats.ks_2samp(original_variances, blurred_variances))\n",
    "print(stats.ks_2samp(original_variances, original_variances_2))"
   ]
  },
  {
   "cell_type": "markdown",
   "id": "125561a2",
   "metadata": {},
   "source": [
    "### Noise\n",
    "\n",
    "A higher Gaussian noise standard deviation corresponds to more noise, and a lower standard deviation corresponds to less noise."
   ]
  },
  {
   "cell_type": "code",
   "execution_count": 15,
   "id": "8a985ddb",
   "metadata": {},
   "outputs": [
    {
     "name": "stdout",
     "output_type": "stream",
     "text": [
      "0.9157551536141341 0.6734673497927672\n",
      "0.96238415106579 0.640362177530679\n",
      "1.7514839088788283 1.0677583614009494\n"
     ]
    }
   ],
   "source": [
    "no_noise = measure_noise(X_3)\n",
    "no_noise_2 = measure_noise(X_4)\n",
    "added_noise = measure_noise(X_noise)\n",
    "print(mean(no_noise), median(no_noise))\n",
    "print(mean(no_noise_2), median(no_noise_2))\n",
    "print(mean(added_noise), median(added_noise))"
   ]
  },
  {
   "cell_type": "code",
   "execution_count": 16,
   "id": "9c9492dd",
   "metadata": {},
   "outputs": [
    {
     "name": "stdout",
     "output_type": "stream",
     "text": [
      "KstestResult(statistic=0.47, pvalue=2.560690522401642e-30)\n",
      "KstestResult(statistic=0.05333333333333334, pvalue=0.7879453299387805)\n"
     ]
    }
   ],
   "source": [
    "print(stats.ks_2samp(no_noise, added_noise))\n",
    "print(stats.ks_2samp(no_noise, no_noise_2))"
   ]
  },
  {
   "cell_type": "markdown",
   "id": "3f15c911",
   "metadata": {},
   "source": [
    "## Explain Drift and Compute Feature Metrics"
   ]
  },
  {
   "cell_type": "code",
   "execution_count": 17,
   "id": "d59bce81",
   "metadata": {},
   "outputs": [],
   "source": [
    "def explain_drift(x1, x2, significance):\n",
    "    x1_bright, x2_bright = measure_brightness(x1), measure_brightness(x2)\n",
    "    x1_blur, x2_blur = measure_blur(x1), measure_blur(x2)\n",
    "    x1_noise, x2_noise = measure_noise(x1), measure_noise(x2)\n",
    "    \n",
    "    drift_violations = {}\n",
    "    \n",
    "    stat_bright, p_value_bright = stats.ks_2samp(x1_bright, x2_bright)\n",
    "    if p_value_bright < significance:\n",
    "        drift_bright = 1\n",
    "    else:\n",
    "        drift_bright = 0\n",
    "    drift_violations[\"brightness\"] = {\"drift\": drift_bright, \"p_value\": p_value_bright}\n",
    "    \n",
    "    stat_blur, p_value_blur = stats.ks_2samp(x1_blur, x2_blur)\n",
    "    if p_value_blur < significance:\n",
    "        drift_blur = 1\n",
    "    else:\n",
    "        drift_blur = 0\n",
    "    drift_violations[\"blurriness\"] = {\"drift\": drift_blur, \"p_value\": p_value_blur}\n",
    "    \n",
    "    stat_noise, p_value_noise = stats.ks_2samp(x1_noise, x2_noise)\n",
    "    if p_value_noise < significance:\n",
    "        drift_noise = 1\n",
    "    else:\n",
    "        drift_noise = 0\n",
    "    drift_violations[\"noise\"] = {\"drift\": drift_noise, \"p_value\": p_value_noise}\n",
    "    \n",
    "    return drift_violations\n",
    "\n",
    "def get_stats(x, normalize = False):\n",
    "    \n",
    "    def get_feature_stats(x, normalize):\n",
    "        \n",
    "        if normalize:\n",
    "            x = [el / max(x) for el in x]\n",
    "        \n",
    "        x_mean = mean(x)\n",
    "        x_median = median(x)\n",
    "        x_min = min(x)\n",
    "        x_max = max(x)\n",
    "        x_sd = statistics.stdev(x)\n",
    "        \n",
    "        stats = {\n",
    "            \"mean\": x_mean,\n",
    "            \"median\": x_median,\n",
    "            \"min\": x_min,\n",
    "            \"max\": x_max,\n",
    "            \"std_dev\": x_sd\n",
    "        }\n",
    "        \n",
    "        return stats\n",
    "        \n",
    "    x_bright = measure_brightness(x)\n",
    "    x_blur = measure_blur(x)\n",
    "    x_noise = measure_noise(x)\n",
    "    \n",
    "    brightness_stats = get_feature_stats(x_bright, normalize)\n",
    "    blurriness_stats = get_feature_stats(x_blur, normalize)\n",
    "    noise_stats = get_feature_stats(x_noise, normalize)\n",
    "\n",
    "    combined_stats = {\n",
    "        \"brightness\": brightness_stats,\n",
    "        \"bluriness\": blurriness_stats,\n",
    "        \"noise\": noise_stats\n",
    "    }\n",
    "\n",
    "    return combined_stats"
   ]
  },
  {
   "cell_type": "markdown",
   "id": "610816d8",
   "metadata": {},
   "source": [
    "### Examine drift results from 2 samples without corruption\n",
    "\n",
    "Using the results from the 2-sample K-S tests, we can detect whether there is a drift in brightness, blurriness, and noise. We can also add additional features (such as pixelation) if needed. Here we will compare 2 samples drawn from the baseline distribution. Note that no drift is detected."
   ]
  },
  {
   "cell_type": "code",
   "execution_count": 18,
   "id": "7ddd958e",
   "metadata": {},
   "outputs": [
    {
     "name": "stdout",
     "output_type": "stream",
     "text": [
      "Drift results comparing 2 samples drawn from the baseline distribution:\n",
      "{'brightness': {'drift': 0, 'p_value': 0.4548928024568597}, 'blurriness': {'drift': 0, 'p_value': 0.9704671760269938}, 'noise': {'drift': 0, 'p_value': 0.8483422371364409}}\n"
     ]
    }
   ],
   "source": [
    "print(\"Drift results comparing 2 samples drawn from the baseline distribution:\")\n",
    "print(explain_drift(X_1, X_2, 0.05))"
   ]
  },
  {
   "cell_type": "code",
   "execution_count": 19,
   "id": "46236c51",
   "metadata": {},
   "outputs": [
    {
     "name": "stdout",
     "output_type": "stream",
     "text": [
      "Statistics for the first sample:\n",
      "{'brightness': {'mean': 94.39175944010417, 'median': 86.325439453125, 'min': 14.237548828125, 'max': 248.23974609375, 'std_dev': 50.51405563117559}, 'bluriness': {'mean': 605.0493109140793, 'median': 232.5078694820404, 'min': 5.897441625595093, 'max': 6444.762712240219, 'std_dev': 1086.425004795865}, 'noise': {'mean': 0.9804174336261707, 'median': 0.7225308970785235, 'min': 1.1695669281730096e-30, 'max': 6.1450409450566825, 'std_dev': 0.8682717034331013}}\n"
     ]
    }
   ],
   "source": [
    "print(\"Statistics for the first sample:\")\n",
    "print(get_stats(X_1))"
   ]
  },
  {
   "cell_type": "code",
   "execution_count": 20,
   "id": "1081d852",
   "metadata": {},
   "outputs": [
    {
     "name": "stdout",
     "output_type": "stream",
     "text": [
      "Statistics for the second sample:\n",
      "{'brightness': {'mean': 95.01402750651042, 'median': 82.6630859375, 'min': 14.4365234375, 'max': 249.045654296875, 'std_dev': 54.463892263656874}, 'bluriness': {'mean': 543.605992637674, 'median': 214.98730063438416, 'min': 4.679179906845093, 'max': 6084.395412445068, 'std_dev': 852.531625395008}, 'noise': {'mean': 0.9638683302263371, 'median': 0.6833670577941322, 'min': 1.1695669281730096e-30, 'max': 5.654320147323115, 'std_dev': 0.8424767929489969}}\n"
     ]
    }
   ],
   "source": [
    "print(\"Statistics for the second sample:\")\n",
    "print(get_stats(X_2))"
   ]
  },
  {
   "cell_type": "markdown",
   "id": "448a9c6b",
   "metadata": {},
   "source": [
    "### Brightness change\n",
    "\n",
    "Here we will measure drift on a dataset with increased brightness. Note that the noise feature is a general measure; if we are comparing a baseline dataset against a corrupted dataset, noise will be detected. If we are comparing two samples drawn from the original distribution, noise will not be detected."
   ]
  },
  {
   "cell_type": "code",
   "execution_count": 21,
   "id": "85f078e8",
   "metadata": {},
   "outputs": [
    {
     "name": "stdout",
     "output_type": "stream",
     "text": [
      "Drift results comparing a bright dataset against an original dataset:\n",
      "{'brightness': {'drift': 1, 'p_value': 4.222383660476908e-21}, 'blurriness': {'drift': 0, 'p_value': 0.4548928024568597}, 'noise': {'drift': 1, 'p_value': 2.876765319621712e-10}}\n"
     ]
    }
   ],
   "source": [
    "print(\"Drift results comparing a bright dataset against an original dataset:\")\n",
    "print(explain_drift(X_1, X_bright, 0.05))"
   ]
  },
  {
   "cell_type": "code",
   "execution_count": 22,
   "id": "b5f34906",
   "metadata": {},
   "outputs": [
    {
     "name": "stdout",
     "output_type": "stream",
     "text": [
      "Baseline statistics:\n",
      "{'brightness': {'mean': 94.39175944010417, 'median': 86.325439453125, 'min': 14.237548828125, 'max': 248.23974609375, 'std_dev': 50.51405563117559}, 'bluriness': {'mean': 605.0493109140793, 'median': 232.5078694820404, 'min': 5.897441625595093, 'max': 6444.762712240219, 'std_dev': 1086.425004795865}, 'noise': {'mean': 0.9804174336261707, 'median': 0.7225308970785235, 'min': 1.1695669281730096e-30, 'max': 6.1450409450566825, 'std_dev': 0.8682717034331013}}\n"
     ]
    }
   ],
   "source": [
    "print(\"Baseline statistics:\")\n",
    "print(get_stats(X_1))"
   ]
  },
  {
   "cell_type": "code",
   "execution_count": 23,
   "id": "b62ce0bd",
   "metadata": {},
   "outputs": [
    {
     "name": "stdout",
     "output_type": "stream",
     "text": [
      "Bright dataset statistics:\n",
      "{'brightness': {'mean': 139.87216471354168, 'median': 131.961181640625, 'min': 64.4365234375, 'max': 254.21337890625, 'std_dev': 47.37365674763813}, 'bluriness': {'mean': 532.7199635883172, 'median': 247.90088438987732, 'min': 10.670869588851929, 'max': 4749.386169433594, 'std_dev': 721.7424068800193}, 'noise': {'mean': 1.2643900957501577, 'median': 1.0396826523327132, 'min': 1.1695669281730096e-30, 'max': 6.030318601916103, 'std_dev': 0.8394365065438874}}\n"
     ]
    }
   ],
   "source": [
    "print(\"Bright dataset statistics:\")\n",
    "print(get_stats(X_bright))"
   ]
  },
  {
   "cell_type": "markdown",
   "id": "7ba70515",
   "metadata": {},
   "source": [
    "### Blurriness change\n"
   ]
  },
  {
   "cell_type": "code",
   "execution_count": 24,
   "id": "af00bd92",
   "metadata": {},
   "outputs": [
    {
     "name": "stdout",
     "output_type": "stream",
     "text": [
      "Drift results comparing a blurry dataset against an original dataset:\n",
      "{'brightness': {'drift': 0, 'p_value': 0.4548928024568597}, 'blurriness': {'drift': 1, 'p_value': 7.277526651183985e-09}, 'noise': {'drift': 1, 'p_value': 9.889598198063616e-28}}\n"
     ]
    }
   ],
   "source": [
    "print(\"Drift results comparing a blurry dataset against an original dataset:\")\n",
    "print(explain_drift(X_2, X_blur, 0.05))"
   ]
  },
  {
   "cell_type": "code",
   "execution_count": 25,
   "id": "bc47d9c4",
   "metadata": {},
   "outputs": [
    {
     "name": "stdout",
     "output_type": "stream",
     "text": [
      "Baseline statistics:\n",
      "{'brightness': {'mean': 95.01402750651042, 'median': 82.6630859375, 'min': 14.4365234375, 'max': 249.045654296875, 'std_dev': 54.463892263656874}, 'bluriness': {'mean': 543.605992637674, 'median': 214.98730063438416, 'min': 4.679179906845093, 'max': 6084.395412445068, 'std_dev': 852.531625395008}, 'noise': {'mean': 0.9638683302263371, 'median': 0.6833670577941322, 'min': 1.1695669281730096e-30, 'max': 5.654320147323115, 'std_dev': 0.8424767929489969}}\n"
     ]
    }
   ],
   "source": [
    "print(\"Baseline statistics:\")\n",
    "print(get_stats(X_2))"
   ]
  },
  {
   "cell_type": "code",
   "execution_count": 26,
   "id": "0b95d2bc",
   "metadata": {},
   "outputs": [
    {
     "name": "stdout",
     "output_type": "stream",
     "text": [
      "Blurry dataset statistics:\n",
      "{'brightness': {'mean': 93.90260498046875, 'median': 86.21826171875, 'min': 14.127685546875, 'max': 248.275390625, 'std_dev': 50.399282940216736}, 'bluriness': {'mean': 191.70670339047908, 'median': 89.40206903219223, 'min': 2.949919641017914, 'max': 2247.0842351317406, 'std_dev': 286.7639079374228}, 'noise': {'mean': 0.4446069654588615, 'median': 0.39326180777974235, 'min': 0.0022176260432322376, 'max': 1.8712695558125114, 'std_dev': 0.2170008283020042}}\n"
     ]
    }
   ],
   "source": [
    "print(\"Blurry dataset statistics:\")\n",
    "print(get_stats(X_blur))"
   ]
  }
 ],
 "metadata": {
  "kernelspec": {
   "display_name": "conda_python3",
   "language": "python",
   "name": "conda_python3"
  },
  "language_info": {
   "codemirror_mode": {
    "name": "ipython",
    "version": 3
   },
   "file_extension": ".py",
   "mimetype": "text/x-python",
   "name": "python",
   "nbconvert_exporter": "python",
   "pygments_lexer": "ipython3",
   "version": "3.6.13"
  }
 },
 "nbformat": 4,
 "nbformat_minor": 5
}
